{
 "cells": [
  {
   "cell_type": "markdown",
   "metadata": {},
   "source": [
    "# Wireframe\n",
    "El wireframe nos ayuda a ejecutar la planeación según cada uno de los pasos y proyectar de mejor forma el funcionamiento del sitio web, para adaptarlo al público objetivo."
   ]
  }
 ],
 "metadata": {
  "interpreter": {
   "hash": "5373e4c839551b5a4c1aa565f0c42cf3d9a6b1c39ccce8e7d85d697e072f5ac8"
  },
  "kernelspec": {
   "display_name": "Python 3.10.2 64-bit",
   "language": "python",
   "name": "python3"
  },
  "language_info": {
   "name": "python",
   "version": "3.10.2"
  },
  "orig_nbformat": 4
 },
 "nbformat": 4,
 "nbformat_minor": 2
}
