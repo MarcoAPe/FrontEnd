{
 "cells": [
  {
   "cell_type": "markdown",
   "metadata": {},
   "source": [
    "# Buyer Persona\n",
    "El enfoque del software requiere como mínimo que el usuario sepa leer, escribir y comunicarse oralmente en forma eficiente (escolaridad secundaria), así como poseer un smartphone con conexión a Internet y capacidad para ejecutar la aplicación móvil, además de tener conocimiento en la manipulación de un dispositivo inteligente y para todo esto preferentemente el usuario debe ser menor de 30 años, sexo indistinto.\n",
    "\n",
    "![BuyerPersona](/images/BuyerPersona.jpg)"
   ]
  }
 ],
 "metadata": {
  "interpreter": {
   "hash": "5373e4c839551b5a4c1aa565f0c42cf3d9a6b1c39ccce8e7d85d697e072f5ac8"
  },
  "kernelspec": {
   "display_name": "Python 3.10.2 64-bit",
   "language": "python",
   "name": "python3"
  },
  "language_info": {
   "name": "python",
   "version": "3.10.2"
  },
  "orig_nbformat": 4
 },
 "nbformat": 4,
 "nbformat_minor": 2
}
