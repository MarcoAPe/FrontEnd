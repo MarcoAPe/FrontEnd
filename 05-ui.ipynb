{
 "cells": [
  {
   "cell_type": "markdown",
   "metadata": {},
   "source": [
    "# UI\n",
    "La importancia de una buena interfaz relaciona la funcionalidad con una experiencia agradable. Al adaptar nuestra imagen al usuario logramos que éste no sólo se sienta cómodo mientras utiliza la aplicación si no que además busca interaccionar más con ella y descubrirla.\n",
    "\n",
    "![ui1](/images/ui1.png)\n",
    "\n",
    "![ui2](/images/ui2.png)\n",
    "\n",
    "![ui3](/images/ui3.png)\n",
    "\n",
    "![ui4](/images/ui4.png)\n",
    "\n",
    "![ui5](/images/ui5.png)\n",
    "\n",
    "![ui6](/images/ui6.png)"
   ]
  }
 ],
 "metadata": {
  "interpreter": {
   "hash": "5373e4c839551b5a4c1aa565f0c42cf3d9a6b1c39ccce8e7d85d697e072f5ac8"
  },
  "kernelspec": {
   "display_name": "Python 3.10.2 64-bit",
   "language": "python",
   "name": "python3"
  },
  "language_info": {
   "name": "python",
   "version": "3.10.2"
  },
  "orig_nbformat": 4
 },
 "nbformat": 4,
 "nbformat_minor": 2
}
