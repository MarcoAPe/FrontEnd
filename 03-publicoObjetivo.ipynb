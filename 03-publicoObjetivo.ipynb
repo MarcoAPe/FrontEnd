{
 "cells": [
  {
   "cell_type": "markdown",
   "metadata": {},
   "source": [
    "# Público objetivo\n",
    "No todos los usuarios serán el cliente ideal es por eso que es importante describir un rango ligeramente amplio en donde nuestra solución podría ser funcional y aunque seguirá respondiendo a ciertas condiciones se puede modificar para ser más flexible.\n",
    "\n",
    "![publicoObjetivo](/images/publicoObjetivo.jpg)"
   ]
  }
 ],
 "metadata": {
  "interpreter": {
   "hash": "5373e4c839551b5a4c1aa565f0c42cf3d9a6b1c39ccce8e7d85d697e072f5ac8"
  },
  "kernelspec": {
   "display_name": "Python 3.10.2 64-bit",
   "language": "python",
   "name": "python3"
  },
  "language_info": {
   "name": "python",
   "version": "3.10.2"
  },
  "orig_nbformat": 4
 },
 "nbformat": 4,
 "nbformat_minor": 2
}
